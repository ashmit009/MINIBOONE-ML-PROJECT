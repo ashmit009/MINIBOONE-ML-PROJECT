{
  "nbformat": 4,
  "nbformat_minor": 0,
  "metadata": {
    "colab": {
      "provenance": [],
      "authorship_tag": "ABX9TyPD7WT14dLuWlQKqG/i0/Tz",
      "include_colab_link": true
    },
    "kernelspec": {
      "name": "python3",
      "display_name": "Python 3"
    },
    "language_info": {
      "name": "python"
    }
  },
  "cells": [
    {
      "cell_type": "markdown",
      "metadata": {
        "id": "view-in-github",
        "colab_type": "text"
      },
      "source": [
        "<a href=\"https://colab.research.google.com/github/ashmit009/ML-PROJECTS/blob/main/ADBD1.ipynb\" target=\"_parent\"><img src=\"https://colab.research.google.com/assets/colab-badge.svg\" alt=\"Open In Colab\"/></a>"
      ]
    },
    {
      "cell_type": "code",
      "source": [
        "pip install pyspark"
      ],
      "metadata": {
        "colab": {
          "base_uri": "https://localhost:8080/"
        },
        "id": "IU47mObuV9ld",
        "outputId": "5fa4f51c-c0f0-4876-da10-e2fa4d8ad17f"
      },
      "execution_count": 2,
      "outputs": [
        {
          "output_type": "stream",
          "name": "stdout",
          "text": [
            "Collecting pyspark\n",
            "  Downloading pyspark-3.5.0.tar.gz (316.9 MB)\n",
            "\u001b[2K     \u001b[90m━━━━━━━━━━━━━━━━━━━━━━━━━━━━━━━━━━━━━━━━\u001b[0m \u001b[32m316.9/316.9 MB\u001b[0m \u001b[31m5.0 MB/s\u001b[0m eta \u001b[36m0:00:00\u001b[0m\n",
            "\u001b[?25h  Preparing metadata (setup.py) ... \u001b[?25l\u001b[?25hdone\n",
            "Requirement already satisfied: py4j==0.10.9.7 in /usr/local/lib/python3.10/dist-packages (from pyspark) (0.10.9.7)\n",
            "Building wheels for collected packages: pyspark\n",
            "  Building wheel for pyspark (setup.py) ... \u001b[?25l\u001b[?25hdone\n",
            "  Created wheel for pyspark: filename=pyspark-3.5.0-py2.py3-none-any.whl size=317425345 sha256=98da16343a3e787ef272ac589d7fd7a53f86543752c8492d4c23bab9f824187d\n",
            "  Stored in directory: /root/.cache/pip/wheels/41/4e/10/c2cf2467f71c678cfc8a6b9ac9241e5e44a01940da8fbb17fc\n",
            "Successfully built pyspark\n",
            "Installing collected packages: pyspark\n",
            "Successfully installed pyspark-3.5.0\n"
          ]
        }
      ]
    },
    {
      "cell_type": "code",
      "execution_count": 3,
      "metadata": {
        "colab": {
          "base_uri": "https://localhost:8080/"
        },
        "id": "CKwaD3wf7QJr",
        "outputId": "0367ec19-8316-4590-c243-82c17711275c"
      },
      "outputs": [
        {
          "output_type": "stream",
          "name": "stdout",
          "text": [
            "[1 2 3 4 5]\n",
            "[1, 2, 3, 4, 5, 6]\n",
            "[3.0,4.0,5.0,6.0]\n",
            "(3,[0,2],[1.0,3.0])\n"
          ]
        }
      ],
      "source": [
        "from pyspark import SparkConf,SparkContext\n",
        "conf=SparkConf().setAppName('abc').setMaster('local') #\n",
        "sc=SparkContext(conf=conf)\n",
        "sc.setLogLevel('ERROR')\n",
        "from pyspark.sql import SparkSession\n",
        "spark=SparkSession.builder.appName('abc').config('','').getOrCreate()\n",
        "# NUMPY Dense Vector\n",
        "import numpy as np\n",
        "v1=np.array([1,2,3,4,5])\n",
        "print(v1)\n",
        "# simple python list\n",
        "v2=[1,2,3,4,5,6]\n",
        "print(v2)\n",
        "# Sparce & dense spark vector\n",
        "from pyspark.mllib.linalg import Vectors\n",
        "v3=Vectors.dense([3,4,5,6])\n",
        "print(v3)\n",
        "v4 = Vectors.sparse(3, [0, 2], [1.0, 3.0])\n",
        "print(v4)"
      ]
    },
    {
      "cell_type": "code",
      "source": [
        "df = spark.read.csv('data.csv',header=True,inferSchema=True) # header = None\n",
        "df.show(5,0) # 0 doesnot truncate displaying columns, useful in large dataset"
      ],
      "metadata": {
        "colab": {
          "base_uri": "https://localhost:8080/"
        },
        "id": "xMhEDODuWRcQ",
        "outputId": "2ba899ce-b969-4a28-fcd4-b64e3277f124"
      },
      "execution_count": 5,
      "outputs": [
        {
          "output_type": "stream",
          "name": "stdout",
          "text": [
            "+-------------+------+\n",
            "|Time_to_Study|Grades|\n",
            "+-------------+------+\n",
            "|1            |1.5   |\n",
            "|5            |2.7   |\n",
            "|7            |3.1   |\n",
            "|3            |2.1   |\n",
            "|2            |1.8   |\n",
            "+-------------+------+\n",
            "only showing top 5 rows\n",
            "\n"
          ]
        }
      ]
    },
    {
      "cell_type": "code",
      "source": [
        "# Step 3: Exploratory Data Analysis"
      ],
      "metadata": {
        "id": "PY8fYB_ZWi5l"
      },
      "execution_count": 6,
      "outputs": []
    },
    {
      "cell_type": "code",
      "source": [
        "df.count()"
      ],
      "metadata": {
        "colab": {
          "base_uri": "https://localhost:8080/"
        },
        "id": "QxMYHVJIWi86",
        "outputId": "82b22e06-523f-4608-b4b0-16fe7f8dfd12"
      },
      "execution_count": 7,
      "outputs": [
        {
          "output_type": "execute_result",
          "data": {
            "text/plain": [
              "50"
            ]
          },
          "metadata": {},
          "execution_count": 7
        }
      ]
    },
    {
      "cell_type": "code",
      "source": [
        "df.select('Grades').distinct().count()"
      ],
      "metadata": {
        "colab": {
          "base_uri": "https://localhost:8080/"
        },
        "id": "o2nUZvQSWi_Q",
        "outputId": "d2331238-9ab2-443d-9395-f9991456b42b"
      },
      "execution_count": 8,
      "outputs": [
        {
          "output_type": "execute_result",
          "data": {
            "text/plain": [
              "14"
            ]
          },
          "metadata": {},
          "execution_count": 8
        }
      ]
    },
    {
      "cell_type": "code",
      "source": [
        "df.printSchema()"
      ],
      "metadata": {
        "colab": {
          "base_uri": "https://localhost:8080/"
        },
        "id": "7XnO7PthWjBk",
        "outputId": "cd9b46df-5cd1-4641-b899-1d26d98018cb"
      },
      "execution_count": 9,
      "outputs": [
        {
          "output_type": "stream",
          "name": "stdout",
          "text": [
            "root\n",
            " |-- Time_to_Study: integer (nullable = true)\n",
            " |-- Grades: double (nullable = true)\n",
            "\n"
          ]
        }
      ]
    },
    {
      "cell_type": "code",
      "source": [
        "df.show()"
      ],
      "metadata": {
        "colab": {
          "base_uri": "https://localhost:8080/"
        },
        "id": "M9WMzhBNWtOy",
        "outputId": "d88b9eda-9fd9-4159-c924-1c5b8c1ad6cc"
      },
      "execution_count": 10,
      "outputs": [
        {
          "output_type": "stream",
          "name": "stdout",
          "text": [
            "+-------------+------+\n",
            "|Time_to_Study|Grades|\n",
            "+-------------+------+\n",
            "|            1|   1.5|\n",
            "|            5|   2.7|\n",
            "|            7|   3.1|\n",
            "|            3|   2.1|\n",
            "|            2|   1.8|\n",
            "|            9|   3.9|\n",
            "|            6|   2.9|\n",
            "|           12|   4.5|\n",
            "|           11|   4.3|\n",
            "|            2|   1.8|\n",
            "|            4|   2.4|\n",
            "|            8|   3.5|\n",
            "|           13|   4.8|\n",
            "|            9|   3.9|\n",
            "|           14|   5.0|\n",
            "|           10|   4.1|\n",
            "|            6|   2.9|\n",
            "|           12|   4.5|\n",
            "|            1|   1.5|\n",
            "|            4|   2.4|\n",
            "+-------------+------+\n",
            "only showing top 20 rows\n",
            "\n"
          ]
        }
      ]
    },
    {
      "cell_type": "code",
      "source": [
        "df.describe().show()"
      ],
      "metadata": {
        "colab": {
          "base_uri": "https://localhost:8080/"
        },
        "id": "BCA6kiiKWtRQ",
        "outputId": "401c7147-8b2a-4cd8-d1c2-1b33094d2396"
      },
      "execution_count": 11,
      "outputs": [
        {
          "output_type": "stream",
          "name": "stdout",
          "text": [
            "+-------+-----------------+------------------+\n",
            "|summary|    Time_to_Study|            Grades|\n",
            "+-------+-----------------+------------------+\n",
            "|  count|               50|                50|\n",
            "|   mean|             7.12|3.2220000000000004|\n",
            "| stddev|4.048884956102742|1.1047744252164082|\n",
            "|    min|                1|               1.5|\n",
            "|    max|               14|               5.0|\n",
            "+-------+-----------------+------------------+\n",
            "\n"
          ]
        }
      ]
    },
    {
      "cell_type": "code",
      "source": [
        "#create a feature array by omitting the last column\n",
        "feature_cols = df.columns[:-1]\n",
        "from pyspark.ml.feature import VectorAssembler\n",
        "vect_assembler = VectorAssembler(inputCols = feature_cols, outputCol=\"features\")\n",
        "#Utilize Assembler created above in order to add the feature column\n",
        "data_w_features = vect_assembler.transform(df)"
      ],
      "metadata": {
        "id": "-00V5qmaWtT5"
      },
      "execution_count": 12,
      "outputs": []
    },
    {
      "cell_type": "code",
      "source": [
        "finalized_data = data_w_features.select(\"features\",\"Grades\")\n",
        "finalized_data.show()"
      ],
      "metadata": {
        "colab": {
          "base_uri": "https://localhost:8080/"
        },
        "id": "-uXCFHj5WtV9",
        "outputId": "fc1eec38-bb11-408d-9699-4dfad39962fd"
      },
      "execution_count": 13,
      "outputs": [
        {
          "output_type": "stream",
          "name": "stdout",
          "text": [
            "+--------+------+\n",
            "|features|Grades|\n",
            "+--------+------+\n",
            "|   [1.0]|   1.5|\n",
            "|   [5.0]|   2.7|\n",
            "|   [7.0]|   3.1|\n",
            "|   [3.0]|   2.1|\n",
            "|   [2.0]|   1.8|\n",
            "|   [9.0]|   3.9|\n",
            "|   [6.0]|   2.9|\n",
            "|  [12.0]|   4.5|\n",
            "|  [11.0]|   4.3|\n",
            "|   [2.0]|   1.8|\n",
            "|   [4.0]|   2.4|\n",
            "|   [8.0]|   3.5|\n",
            "|  [13.0]|   4.8|\n",
            "|   [9.0]|   3.9|\n",
            "|  [14.0]|   5.0|\n",
            "|  [10.0]|   4.1|\n",
            "|   [6.0]|   2.9|\n",
            "|  [12.0]|   4.5|\n",
            "|   [1.0]|   1.5|\n",
            "|   [4.0]|   2.4|\n",
            "+--------+------+\n",
            "only showing top 20 rows\n",
            "\n"
          ]
        }
      ]
    },
    {
      "cell_type": "code",
      "source": [
        "# train test split\n",
        "train_dataset, test_dataset = finalized_data.randomSplit([0.7, 0.3])\n",
        "print(df.count())\n",
        "print(train_dataset.count())\n",
        "print(test_dataset.count())"
      ],
      "metadata": {
        "colab": {
          "base_uri": "https://localhost:8080/"
        },
        "id": "Aci5T4ymWtYk",
        "outputId": "039aec5f-b8b5-454f-ffe4-50327bcfe09c"
      },
      "execution_count": 14,
      "outputs": [
        {
          "output_type": "stream",
          "name": "stdout",
          "text": [
            "50\n",
            "36\n",
            "14\n"
          ]
        }
      ]
    },
    {
      "cell_type": "code",
      "source": [
        "#Import Linear Regression class called LinearRegression\n",
        "from pyspark.ml.regression import LinearRegression\n",
        "LinReg = LinearRegression(featuresCol=\"features\", labelCol=\"Grades\")"
      ],
      "metadata": {
        "id": "xH2iADKtWjDq"
      },
      "execution_count": 15,
      "outputs": []
    },
    {
      "cell_type": "code",
      "source": [
        "# Model training and testing\n",
        "#Train the model on the training using fit() method.\n",
        "model = LinReg.fit(train_dataset)\n",
        "#Predict the Grades using the evulate method\n",
        "pred = model.evaluate(test_dataset)"
      ],
      "metadata": {
        "id": "_orWuw_CWjFc"
      },
      "execution_count": 16,
      "outputs": []
    },
    {
      "cell_type": "code",
      "source": [
        "pred.predictions.show()"
      ],
      "metadata": {
        "colab": {
          "base_uri": "https://localhost:8080/"
        },
        "id": "Jo1wHOJGXOYh",
        "outputId": "5a81b4de-0182-4bb1-e67b-8947fe0c5cc9"
      },
      "execution_count": 17,
      "outputs": [
        {
          "output_type": "stream",
          "name": "stdout",
          "text": [
            "+--------+------+------------------+\n",
            "|features|Grades|        prediction|\n",
            "+--------+------+------------------+\n",
            "|   [2.0]|   1.8|1.8200723892935324|\n",
            "|   [5.0]|   2.7| 2.643339738147369|\n",
            "|   [5.0]|   2.7| 2.643339738147369|\n",
            "|   [6.0]|   2.9| 2.917762187765315|\n",
            "|   [6.0]|   2.9| 2.917762187765315|\n",
            "|   [6.0]|   2.9| 2.917762187765315|\n",
            "|   [8.0]|   3.5| 3.466607087001206|\n",
            "|   [8.0]|   3.5| 3.466607087001206|\n",
            "|   [8.0]|   3.5| 3.466607087001206|\n",
            "|  [11.0]|   4.3| 4.289874435855043|\n",
            "|  [12.0]|   4.5| 4.564296885472988|\n",
            "|  [12.0]|   4.5| 4.564296885472988|\n",
            "|  [12.0]|   4.5| 4.564296885472988|\n",
            "|  [14.0]|   5.0|  5.11314178470888|\n",
            "+--------+------+------------------+\n",
            "\n"
          ]
        }
      ]
    },
    {
      "cell_type": "code",
      "source": [
        "#Find out coefficient value\n",
        "coefficient = model.coefficients\n",
        "print (\"The coefficient of the model is : %a\" %coefficient)\n",
        "#Find out intercept Value\n",
        "intercept = model.intercept\n",
        "print (\"The Intercept of the model is : %f\" %intercept)"
      ],
      "metadata": {
        "colab": {
          "base_uri": "https://localhost:8080/"
        },
        "id": "4VmFLWHkXOaj",
        "outputId": "82dc89d9-ff92-43c8-8127-5b86b868e2e7"
      },
      "execution_count": 18,
      "outputs": [
        {
          "output_type": "stream",
          "name": "stdout",
          "text": [
            "The coefficient of the model is : DenseVector([0.2744])\n",
            "The Intercept of the model is : 1.271227\n"
          ]
        }
      ]
    },
    {
      "cell_type": "code",
      "source": [
        "#Evaluate the model using metric like Mean Absolute Error(MAE), Root Mean␣\n",
        "#Square Error(RMSE) and R-Square\n",
        "from pyspark.ml.evaluation import RegressionEvaluator\n",
        "evaluation = RegressionEvaluator(labelCol=\"Grades\", predictionCol=\"prediction\")\n",
        "# Root Mean Square Error\n",
        "rmse = evaluation.evaluate(pred.predictions, {evaluation.metricName: \"rmse\"})\n",
        "print(\"RMSE: %.3f\" % rmse)\n",
        "# Mean Square Error\n",
        "mse = evaluation.evaluate(pred.predictions, {evaluation.metricName: \"mse\"})\n",
        "print(\"MSE: %.3f\" % mse)\n",
        "# Mean Absolute Error\n",
        "mae = evaluation.evaluate(pred.predictions, {evaluation.metricName: \"mae\"})\n",
        "print(\"MAE: %.3f\" % mae)\n",
        "# r2 - coefficient of determination\n",
        "r2 = evaluation.evaluate(pred.predictions, {evaluation.metricName: \"r2\"})\n",
        "print(\"r2: %.3f\" %r2)"
      ],
      "metadata": {
        "colab": {
          "base_uri": "https://localhost:8080/"
        },
        "id": "vSCn_-z2XOc5",
        "outputId": "d5366806-bba8-42eb-ecf5-dcf51f4515bd"
      },
      "execution_count": 21,
      "outputs": [
        {
          "output_type": "stream",
          "name": "stdout",
          "text": [
            "RMSE: 0.051\n",
            "MSE: 0.003\n",
            "MAE: 0.043\n",
            "r2: 0.997\n"
          ]
        }
      ]
    }
  ]
}